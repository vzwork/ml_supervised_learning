{
 "cells": [
  {
   "cell_type": "markdown",
   "metadata": {},
   "source": [
    "# Description"
   ]
  },
  {
   "cell_type": "markdown",
   "metadata": {},
   "source": [
    "Bank \"Beta\" has a problem. Each month clients leave the bank. The goal for this project is to build a model, which will predict which clients are likely to leave next. F1-metric must be at least 0.59."
   ]
  },
  {
   "cell_type": "markdown",
   "metadata": {},
   "source": [
    "# Plan"
   ]
  },
  {
   "cell_type": "markdown",
   "metadata": {},
   "source": [
    "- Libraries\n",
    "- Load Data\n",
    "- Prepare Data\n",
    "- Build Model\n",
    "- Build Model With Balanced Data\n",
    "- Find the Best Model\n",
    "- Final Test\n",
    "- Reflection "
   ]
  },
  {
   "cell_type": "markdown",
   "metadata": {},
   "source": [
    "# Libraries"
   ]
  },
  {
   "cell_type": "code",
   "execution_count": 60,
   "metadata": {},
   "outputs": [],
   "source": [
    "import pandas as pd\n",
    "import numpy as np\n",
    "import matplotlib.pyplot as plt\n",
    "import os\n",
    "\n",
    "# Because the target feature is quantitive we will be using classifiers\n",
    "# DecisionTreeClassifier / RandomForestClassifier / LogisticRegression\n",
    "from sklearn.tree import DecisionTreeClassifier\n",
    "from sklearn.ensemble import RandomForestClassifier\n",
    "from sklearn.linear_model import LogisticRegression\n",
    "\n",
    "from sklearn.model_selection import train_test_split\n",
    "from sklearn.preprocessing import StandardScaler\n",
    "\n",
    "from sklearn.metrics import f1_score\n",
    "from sklearn.metrics import roc_curve\n",
    "from sklearn.metrics import roc_auc_score\n",
    "from sklearn.utils import shuffle"
   ]
  },
  {
   "cell_type": "markdown",
   "metadata": {},
   "source": [
    "# Load Data"
   ]
  },
  {
   "cell_type": "code",
   "execution_count": 61,
   "metadata": {},
   "outputs": [],
   "source": [
    "local_path = './datasets/Churn.csv'\n",
    "web_path = '/datasets/Churn.csv'\n",
    "\n",
    "if os.path.exists(local_path):\n",
    "  df = pd.read_csv(local_path)\n",
    "elif os.path.exists(web_path):\n",
    "  df = pd.read_csv(web_path)"
   ]
  },
  {
   "cell_type": "code",
   "execution_count": 62,
   "metadata": {},
   "outputs": [
    {
     "name": "stdout",
     "output_type": "stream",
     "text": [
      "<class 'pandas.core.frame.DataFrame'>\n",
      "RangeIndex: 10000 entries, 0 to 9999\n",
      "Data columns (total 14 columns):\n",
      " #   Column           Non-Null Count  Dtype  \n",
      "---  ------           --------------  -----  \n",
      " 0   RowNumber        10000 non-null  int64  \n",
      " 1   CustomerId       10000 non-null  int64  \n",
      " 2   Surname          10000 non-null  object \n",
      " 3   CreditScore      10000 non-null  int64  \n",
      " 4   Geography        10000 non-null  object \n",
      " 5   Gender           10000 non-null  object \n",
      " 6   Age              10000 non-null  int64  \n",
      " 7   Tenure           9091 non-null   float64\n",
      " 8   Balance          10000 non-null  float64\n",
      " 9   NumOfProducts    10000 non-null  int64  \n",
      " 10  HasCrCard        10000 non-null  int64  \n",
      " 11  IsActiveMember   10000 non-null  int64  \n",
      " 12  EstimatedSalary  10000 non-null  float64\n",
      " 13  Exited           10000 non-null  int64  \n",
      "dtypes: float64(3), int64(8), object(3)\n",
      "memory usage: 1.1+ MB\n",
      "None\n"
     ]
    }
   ],
   "source": [
    "print(df.info())"
   ]
  },
  {
   "cell_type": "markdown",
   "metadata": {},
   "source": [
    "Looks like table 'Tenure' has missing values. Reminder, this table shows number of years a preson has been a client, probably if there is a missing value, a client has been with the bank for less than a year, so we can fill those values as 0."
   ]
  },
  {
   "cell_type": "code",
   "execution_count": 63,
   "metadata": {},
   "outputs": [],
   "source": [
    "df['Tenure'] = df['Tenure'].fillna(0)"
   ]
  },
  {
   "cell_type": "markdown",
   "metadata": {},
   "source": [
    "# Prepare Data"
   ]
  },
  {
   "cell_type": "markdown",
   "metadata": {},
   "source": [
    "### Sanity check"
   ]
  },
  {
   "cell_type": "code",
   "execution_count": 64,
   "metadata": {},
   "outputs": [
    {
     "name": "stdout",
     "output_type": "stream",
     "text": [
      "poisitive target ratio 0.2037\n"
     ]
    }
   ],
   "source": [
    "print('poisitive target ratio', df['Exited'].sum() / df['Exited'].size)"
   ]
  },
  {
   "cell_type": "markdown",
   "metadata": {},
   "source": [
    "We might try increasing positive selection, or decreaseing negative selection."
   ]
  },
  {
   "cell_type": "markdown",
   "metadata": {},
   "source": [
    "### Inspect all non-numeric columns, drop the useless and encode the required."
   ]
  },
  {
   "cell_type": "code",
   "execution_count": 65,
   "metadata": {},
   "outputs": [
    {
     "name": "stdout",
     "output_type": "stream",
     "text": [
      "0    Hargrave\n",
      "1        Hill\n",
      "2        Onio\n",
      "3        Boni\n",
      "4    Mitchell\n",
      "Name: Surname, dtype: object\n"
     ]
    }
   ],
   "source": [
    "print(df['Surname'].head())"
   ]
  },
  {
   "cell_type": "markdown",
   "metadata": {},
   "source": [
    "We will nod need last name of the customer to train our model"
   ]
  },
  {
   "cell_type": "code",
   "execution_count": 66,
   "metadata": {},
   "outputs": [],
   "source": [
    "df = df.drop(['Surname'], axis=1)"
   ]
  },
  {
   "cell_type": "code",
   "execution_count": 67,
   "metadata": {},
   "outputs": [
    {
     "name": "stdout",
     "output_type": "stream",
     "text": [
      "0    France\n",
      "1     Spain\n",
      "2    France\n",
      "3    France\n",
      "4     Spain\n",
      "Name: Geography, dtype: object\n"
     ]
    }
   ],
   "source": [
    "print(df['Geography'].head())"
   ]
  },
  {
   "cell_type": "markdown",
   "metadata": {},
   "source": [
    "This column will be relative to the model."
   ]
  },
  {
   "cell_type": "code",
   "execution_count": 68,
   "metadata": {},
   "outputs": [
    {
     "name": "stdout",
     "output_type": "stream",
     "text": [
      "   France  Germany  Spain\n",
      "0       1        0      0\n",
      "1       0        0      1\n",
      "2       1        0      0\n",
      "3       1        0      0\n",
      "4       0        0      1\n"
     ]
    }
   ],
   "source": [
    "print(pd.get_dummies(df['Geography']).head())"
   ]
  },
  {
   "cell_type": "markdown",
   "metadata": {},
   "source": [
    "Since there are only three states, we can use drop_first=True. But first, lets inspect the rest of the columns."
   ]
  },
  {
   "cell_type": "code",
   "execution_count": 69,
   "metadata": {},
   "outputs": [
    {
     "name": "stdout",
     "output_type": "stream",
     "text": [
      "   Female\n",
      "0       1\n",
      "1       1\n",
      "2       1\n",
      "3       1\n",
      "4       1\n"
     ]
    }
   ],
   "source": [
    "print(pd.get_dummies(df['Gender'].head()))"
   ]
  },
  {
   "cell_type": "markdown",
   "metadata": {},
   "source": [
    "Ok, everything is ready for OHE (one hot encoding)"
   ]
  },
  {
   "cell_type": "code",
   "execution_count": 70,
   "metadata": {},
   "outputs": [],
   "source": [
    "df = pd.get_dummies(df, drop_first=True)"
   ]
  },
  {
   "cell_type": "code",
   "execution_count": 71,
   "metadata": {},
   "outputs": [
    {
     "data": {
      "text/html": [
       "<div>\n",
       "<style scoped>\n",
       "    .dataframe tbody tr th:only-of-type {\n",
       "        vertical-align: middle;\n",
       "    }\n",
       "\n",
       "    .dataframe tbody tr th {\n",
       "        vertical-align: top;\n",
       "    }\n",
       "\n",
       "    .dataframe thead th {\n",
       "        text-align: right;\n",
       "    }\n",
       "</style>\n",
       "<table border=\"1\" class=\"dataframe\">\n",
       "  <thead>\n",
       "    <tr style=\"text-align: right;\">\n",
       "      <th></th>\n",
       "      <th>RowNumber</th>\n",
       "      <th>CustomerId</th>\n",
       "      <th>CreditScore</th>\n",
       "      <th>Age</th>\n",
       "      <th>Tenure</th>\n",
       "      <th>Balance</th>\n",
       "      <th>NumOfProducts</th>\n",
       "      <th>HasCrCard</th>\n",
       "      <th>IsActiveMember</th>\n",
       "      <th>EstimatedSalary</th>\n",
       "      <th>Exited</th>\n",
       "      <th>Geography_Germany</th>\n",
       "      <th>Geography_Spain</th>\n",
       "      <th>Gender_Male</th>\n",
       "    </tr>\n",
       "  </thead>\n",
       "  <tbody>\n",
       "    <tr>\n",
       "      <th>0</th>\n",
       "      <td>1</td>\n",
       "      <td>15634602</td>\n",
       "      <td>619</td>\n",
       "      <td>42</td>\n",
       "      <td>2.0</td>\n",
       "      <td>0.00</td>\n",
       "      <td>1</td>\n",
       "      <td>1</td>\n",
       "      <td>1</td>\n",
       "      <td>101348.88</td>\n",
       "      <td>1</td>\n",
       "      <td>0</td>\n",
       "      <td>0</td>\n",
       "      <td>0</td>\n",
       "    </tr>\n",
       "    <tr>\n",
       "      <th>1</th>\n",
       "      <td>2</td>\n",
       "      <td>15647311</td>\n",
       "      <td>608</td>\n",
       "      <td>41</td>\n",
       "      <td>1.0</td>\n",
       "      <td>83807.86</td>\n",
       "      <td>1</td>\n",
       "      <td>0</td>\n",
       "      <td>1</td>\n",
       "      <td>112542.58</td>\n",
       "      <td>0</td>\n",
       "      <td>0</td>\n",
       "      <td>1</td>\n",
       "      <td>0</td>\n",
       "    </tr>\n",
       "    <tr>\n",
       "      <th>2</th>\n",
       "      <td>3</td>\n",
       "      <td>15619304</td>\n",
       "      <td>502</td>\n",
       "      <td>42</td>\n",
       "      <td>8.0</td>\n",
       "      <td>159660.80</td>\n",
       "      <td>3</td>\n",
       "      <td>1</td>\n",
       "      <td>0</td>\n",
       "      <td>113931.57</td>\n",
       "      <td>1</td>\n",
       "      <td>0</td>\n",
       "      <td>0</td>\n",
       "      <td>0</td>\n",
       "    </tr>\n",
       "    <tr>\n",
       "      <th>3</th>\n",
       "      <td>4</td>\n",
       "      <td>15701354</td>\n",
       "      <td>699</td>\n",
       "      <td>39</td>\n",
       "      <td>1.0</td>\n",
       "      <td>0.00</td>\n",
       "      <td>2</td>\n",
       "      <td>0</td>\n",
       "      <td>0</td>\n",
       "      <td>93826.63</td>\n",
       "      <td>0</td>\n",
       "      <td>0</td>\n",
       "      <td>0</td>\n",
       "      <td>0</td>\n",
       "    </tr>\n",
       "    <tr>\n",
       "      <th>4</th>\n",
       "      <td>5</td>\n",
       "      <td>15737888</td>\n",
       "      <td>850</td>\n",
       "      <td>43</td>\n",
       "      <td>2.0</td>\n",
       "      <td>125510.82</td>\n",
       "      <td>1</td>\n",
       "      <td>1</td>\n",
       "      <td>1</td>\n",
       "      <td>79084.10</td>\n",
       "      <td>0</td>\n",
       "      <td>0</td>\n",
       "      <td>1</td>\n",
       "      <td>0</td>\n",
       "    </tr>\n",
       "  </tbody>\n",
       "</table>\n",
       "</div>"
      ],
      "text/plain": [
       "   RowNumber  CustomerId  CreditScore  Age  Tenure    Balance  NumOfProducts  \\\n",
       "0          1    15634602          619   42     2.0       0.00              1   \n",
       "1          2    15647311          608   41     1.0   83807.86              1   \n",
       "2          3    15619304          502   42     8.0  159660.80              3   \n",
       "3          4    15701354          699   39     1.0       0.00              2   \n",
       "4          5    15737888          850   43     2.0  125510.82              1   \n",
       "\n",
       "   HasCrCard  IsActiveMember  EstimatedSalary  Exited  Geography_Germany  \\\n",
       "0          1               1        101348.88       1                  0   \n",
       "1          0               1        112542.58       0                  0   \n",
       "2          1               0        113931.57       1                  0   \n",
       "3          0               0         93826.63       0                  0   \n",
       "4          1               1         79084.10       0                  0   \n",
       "\n",
       "   Geography_Spain  Gender_Male  \n",
       "0                0            0  \n",
       "1                1            0  \n",
       "2                0            0  \n",
       "3                0            0  \n",
       "4                1            0  "
      ]
     },
     "execution_count": 71,
     "metadata": {},
     "output_type": "execute_result"
    }
   ],
   "source": [
    "df.head()"
   ]
  },
  {
   "cell_type": "markdown",
   "metadata": {},
   "source": [
    "### Seperate into train, validation, test data!"
   ]
  },
  {
   "cell_type": "code",
   "execution_count": 72,
   "metadata": {},
   "outputs": [
    {
     "name": "stdout",
     "output_type": "stream",
     "text": [
      "(10000, 13)\n",
      "(10000,)\n"
     ]
    }
   ],
   "source": [
    "features = df.drop(['Exited'], axis=1)\n",
    "target = df['Exited']\n",
    "\n",
    "print(features.shape)\n",
    "print(target.shape)"
   ]
  },
  {
   "cell_type": "code",
   "execution_count": 73,
   "metadata": {},
   "outputs": [
    {
     "name": "stdout",
     "output_type": "stream",
     "text": [
      "Train\n",
      "(6000, 13) (6000,)\n",
      "Validation\n",
      "(2000, 13) (2000,)\n",
      "Test\n",
      "(2000, 13) (2000,)\n"
     ]
    }
   ],
   "source": [
    "features_train, features_test, target_train, target_test = train_test_split(features, target, test_size=0.2, random_state=12345)\n",
    "features_train, features_valid, target_train, target_valid = train_test_split(features_train, target_train, test_size=0.25, random_state=12345)\n",
    "\n",
    "print('Train')\n",
    "print(features_train.shape, target_train.shape)\n",
    "print('Validation')\n",
    "print(features_valid.shape, target_valid.shape)\n",
    "print('Test')\n",
    "print(features_test.shape, target_test.shape)"
   ]
  },
  {
   "cell_type": "markdown",
   "metadata": {},
   "source": [
    "# Build Model"
   ]
  },
  {
   "cell_type": "code",
   "execution_count": 74,
   "metadata": {},
   "outputs": [],
   "source": [
    "def draw_roc_curve(model, features_valid, target_valid):\n",
    "  proba_valid = model.predict_proba(features_valid)\n",
    "  proba_one_valid = proba_valid[:, 1]\n",
    "  fpr, tpr, thresholds = roc_curve(target_valid, proba_one_valid)\n",
    "  plt.plot(fpr, tpr)\n",
    "  plt.plot([0,1], [0, 1], linestyle='--')\n",
    "  plt.xlim([0.0, 1.0])\n",
    "  plt.ylim([0.0, 1.0])\n",
    "  plt.xlabel('False Positive Rate')\n",
    "  plt.ylabel('True Positive Rate')\n",
    "  plt.title(\"ROC-кривая\")\n",
    "  plt.show()\n",
    "  print(\"AUC_ROC\", roc_auc_score(target_valid, proba_one_valid))"
   ]
  },
  {
   "cell_type": "code",
   "execution_count": 75,
   "metadata": {},
   "outputs": [
    {
     "name": "stdout",
     "output_type": "stream",
     "text": [
      "DecisionTreeClassifier random_state=12345\n",
      "F1 0.4671532846715329\n"
     ]
    }
   ],
   "source": [
    "model = DecisionTreeClassifier(random_state=12345)\n",
    "model.fit(features_train, target_train)\n",
    "predicted_valid = model.predict(features_valid)\n",
    "print('DecisionTreeClassifier random_state=12345')\n",
    "print('F1', f1_score(target_valid, predicted_valid))"
   ]
  },
  {
   "cell_type": "code",
   "execution_count": 76,
   "metadata": {},
   "outputs": [
    {
     "data": {
      "image/png": "[encoded data removed]",
      "text/plain": [
       "<Figure size 432x288 with 1 Axes>"
      ]
     },
     "metadata": {
      "needs_background": "light"
     },
     "output_type": "display_data"
    },
    {
     "name": "stdout",
     "output_type": "stream",
     "text": [
      "AUC_ROC 0.671254563921929\n"
     ]
    }
   ],
   "source": [
    "draw_roc_curve(model, features_valid, target_valid)"
   ]
  },
  {
   "cell_type": "markdown",
   "metadata": {},
   "source": [
    "So far F1 score is not high enough."
   ]
  },
  {
   "cell_type": "markdown",
   "metadata": {},
   "source": [
    "\n",
    "# Build Model With Balanced Data"
   ]
  },
  {
   "cell_type": "markdown",
   "metadata": {},
   "source": [
    "### Class weight"
   ]
  },
  {
   "cell_type": "code",
   "execution_count": 77,
   "metadata": {},
   "outputs": [
    {
     "name": "stdout",
     "output_type": "stream",
     "text": [
      "DecisionTreeClassifier random_state=12345\n",
      "F1 0.48040455120101133\n"
     ]
    }
   ],
   "source": [
    "model = DecisionTreeClassifier(class_weight='balanced', random_state=12345)\n",
    "model.fit(features_train, target_train)\n",
    "predicted_valid = model.predict(features_valid)\n",
    "print('DecisionTreeClassifier random_state=12345')\n",
    "print('F1', f1_score(target_valid, predicted_valid))"
   ]
  },
  {
   "cell_type": "code",
   "execution_count": 78,
   "metadata": {},
   "outputs": [
    {
     "data": {
      "image/png": "[encoded data removed]",
      "text/plain": [
       "<Figure size 432x288 with 1 Axes>"
      ]
     },
     "metadata": {
      "needs_background": "light"
     },
     "output_type": "display_data"
    },
    {
     "name": "stdout",
     "output_type": "stream",
     "text": [
      "AUC_ROC 0.6777088277416513\n"
     ]
    }
   ],
   "source": [
    "draw_roc_curve(model, features_valid, target_valid)"
   ]
  },
  {
   "cell_type": "markdown",
   "metadata": {},
   "source": [
    "F1 score improved a little bit."
   ]
  },
  {
   "cell_type": "markdown",
   "metadata": {},
   "source": [
    "### Upsampling and downsampling"
   ]
  },
  {
   "cell_type": "code",
   "execution_count": 79,
   "metadata": {},
   "outputs": [],
   "source": [
    "def upsample(features, target, repeat):\n",
    "  features_zeros = features[target == 0]\n",
    "  features_ones = features[target == 1]\n",
    "  target_zeros = target[target == 0]\n",
    "  target_ones = target[target == 1]\n",
    "\n",
    "  features_upsampled = pd.concat([features_zeros] + [features_ones] * repeat)\n",
    "  target_upsampled = pd.concat([target_zeros] + [target_ones] * repeat)\n",
    "    \n",
    "  features_upsampled, target_upsampled = shuffle(\n",
    "      features_upsampled, target_upsampled, random_state=12345)\n",
    "    \n",
    "  return features_upsampled, target_upsampled"
   ]
  },
  {
   "cell_type": "code",
   "execution_count": 80,
   "metadata": {},
   "outputs": [],
   "source": [
    "features_upsampled, target_upsampled = upsample(features_train, target_train, 2)"
   ]
  },
  {
   "cell_type": "code",
   "execution_count": 81,
   "metadata": {},
   "outputs": [
    {
     "name": "stdout",
     "output_type": "stream",
     "text": [
      "DecisionTreeClassifier random_state=12345\n",
      "F1 0.48805031446540875\n"
     ]
    }
   ],
   "source": [
    "model = DecisionTreeClassifier(class_weight='balanced', random_state=12345)\n",
    "model.fit(features_upsampled, target_upsampled)\n",
    "predicted_valid = model.predict(features_valid)\n",
    "print('DecisionTreeClassifier random_state=12345')\n",
    "print('F1', f1_score(target_valid, predicted_valid))"
   ]
  },
  {
   "cell_type": "markdown",
   "metadata": {},
   "source": [
    "Upsampling worked, lets try large upsampling different values in a loop"
   ]
  },
  {
   "cell_type": "code",
   "execution_count": 82,
   "metadata": {},
   "outputs": [
    {
     "name": "stdout",
     "output_type": "stream",
     "text": [
      "DecisionTreeClassifier repeat 2\n",
      "F1 0.48805031446540875\n",
      "DecisionTreeClassifier repeat 3\n",
      "F1 0.5\n",
      "DecisionTreeClassifier repeat 4\n",
      "F1 0.4892268694550063\n",
      "DecisionTreeClassifier repeat 5\n",
      "F1 0.4949748743718594\n",
      "DecisionTreeClassifier repeat 6\n",
      "F1 0.5006257822277848\n",
      "DecisionTreeClassifier repeat 7\n",
      "F1 0.4962216624685139\n",
      "DecisionTreeClassifier repeat 8\n",
      "F1 0.5068664169787765\n",
      "DecisionTreeClassifier repeat 9\n",
      "F1 0.49420849420849416\n"
     ]
    }
   ],
   "source": [
    "for repeat in range(2,10):\n",
    "  features_upsampled, target_upsampled = upsample(features_train, target_train, repeat)\n",
    "  model = DecisionTreeClassifier(class_weight='balanced', random_state=12345)\n",
    "  model.fit(features_upsampled, target_upsampled)\n",
    "  predicted_valid = model.predict(features_valid)\n",
    "  print('DecisionTreeClassifier repeat', repeat)\n",
    "  print('F1', f1_score(target_valid, predicted_valid))"
   ]
  },
  {
   "cell_type": "markdown",
   "metadata": {},
   "source": [
    "For upsampling the best number of repeats is 8, now lets try downsampling in a loop."
   ]
  },
  {
   "cell_type": "code",
   "execution_count": 83,
   "metadata": {},
   "outputs": [],
   "source": [
    "def downsample(features, target, fraction):\n",
    "  features_zeros = features[target == 0]\n",
    "  features_ones = features[target == 1]\n",
    "  target_zeros = target[target == 0]\n",
    "  target_ones = target[target == 1]\n",
    "\n",
    "  features_downsampled = pd.concat(\n",
    "      [features_zeros.sample(frac=fraction, random_state=12345)] + [features_ones])\n",
    "  target_downsampled = pd.concat(\n",
    "      [target_zeros.sample(frac=fraction, random_state=12345)] + [target_ones])\n",
    "  \n",
    "  features_downsampled, target_downsampled = shuffle(\n",
    "      features_downsampled, target_downsampled, random_state=12345)\n",
    "  \n",
    "  return features_downsampled, target_downsampled"
   ]
  },
  {
   "cell_type": "code",
   "execution_count": 84,
   "metadata": {},
   "outputs": [
    {
     "name": "stdout",
     "output_type": "stream",
     "text": [
      "DecisionTreeClassifier fraction 0.9\n",
      "F1 0.4589774078478002\n",
      "DecisionTreeClassifier fraction 0.8\n",
      "F1 0.4651711924439198\n",
      "DecisionTreeClassifier fraction 0.7000000000000001\n",
      "F1 0.4761904761904762\n",
      "DecisionTreeClassifier fraction 0.6000000000000001\n",
      "F1 0.45890410958904115\n",
      "DecisionTreeClassifier fraction 0.5000000000000001\n",
      "F1 0.47558386411889597\n",
      "DecisionTreeClassifier fraction 0.40000000000000013\n",
      "F1 0.4590163934426229\n",
      "DecisionTreeClassifier fraction 0.30000000000000016\n",
      "F1 0.4555160142348755\n",
      "DecisionTreeClassifier fraction 0.20000000000000018\n",
      "F1 0.4487179487179487\n"
     ]
    }
   ],
   "source": [
    "for fraction in np.arange(0.9, 0.1, -0.1):\n",
    "  features_downsampled, target_downsampled = downsample(features_train, target_train, fraction)\n",
    "  model = DecisionTreeClassifier(class_weight='balanced', random_state=12345)\n",
    "  model.fit(features_downsampled, target_downsampled)\n",
    "  predicted_valid = model.predict(features_valid)\n",
    "  print('DecisionTreeClassifier fraction', fraction)\n",
    "  print('F1', f1_score(target_valid, predicted_valid))"
   ]
  },
  {
   "cell_type": "markdown",
   "metadata": {},
   "source": [
    "Looks like downsampling isn't working, so we will stick with the upsampling by the magnitude of 8"
   ]
  },
  {
   "cell_type": "code",
   "execution_count": 85,
   "metadata": {},
   "outputs": [
    {
     "name": "stdout",
     "output_type": "stream",
     "text": [
      "DecisionTreeClassifier class_weight='balanced' random_state=12345\n",
      "F1 0.5068664169787765\n"
     ]
    }
   ],
   "source": [
    "features_train, target_train = upsample(features_train, target_train, 8)\n",
    "# testing once again\n",
    "model = DecisionTreeClassifier(class_weight='balanced', random_state=12345)\n",
    "model.fit(features_train, target_train)\n",
    "predicted_valid = model.predict(features_valid)\n",
    "print(\"DecisionTreeClassifier class_weight='balanced' random_state=12345\")\n",
    "print('F1', f1_score(target_valid, predicted_valid))"
   ]
  },
  {
   "cell_type": "code",
   "execution_count": 86,
   "metadata": {},
   "outputs": [
    {
     "data": {
      "image/png": "[encoded data removed]",
      "text/plain": [
       "<Figure size 432x288 with 1 Axes>"
      ]
     },
     "metadata": {
      "needs_background": "light"
     },
     "output_type": "display_data"
    },
    {
     "name": "stdout",
     "output_type": "stream",
     "text": [
      "AUC_ROC 0.6952651247220321\n"
     ]
    }
   ],
   "source": [
    "draw_roc_curve(model, features_valid, target_valid)"
   ]
  },
  {
   "cell_type": "markdown",
   "metadata": {},
   "source": [
    "# Find the Best Model"
   ]
  },
  {
   "cell_type": "markdown",
   "metadata": {},
   "source": [
    "### Bring the big guns, we will start with the random forest classifier"
   ]
  },
  {
   "cell_type": "code",
   "execution_count": 87,
   "metadata": {},
   "outputs": [
    {
     "name": "stdout",
     "output_type": "stream",
     "text": [
      "1 F1 0.32705980761187786\n",
      "2 F1 0.35975892443208163\n",
      "3 F1 0.3913267940113578\n",
      "4 F1 0.42358328563251285\n",
      "5 F1 0.44740024183796867\n",
      "6 F1 0.4640000000000001\n",
      "7 F1 0.49350649350649345\n",
      "8 F1 0.508108108108108\n",
      "9 F1 0.5177832919768404\n",
      "10 F1 0.5425246195165623\n",
      "11 F1 0.5403846153846154\n",
      "12 F1 0.5637860082304527\n",
      "13 F1 0.5480984340044743\n",
      "14 F1 0.5633136094674557\n",
      "15 F1 0.5484276729559749\n"
     ]
    }
   ],
   "source": [
    "for depth in range(1, 16):\n",
    "  model = RandomForestClassifier(n_estimators=20, max_depth=depth, random_state=12345)\n",
    "  model.fit(features_train, target_train)\n",
    "  predicted_valid = model.predict(features_valid)\n",
    "  print(depth, 'F1', f1_score(target_valid, predicted_valid))\n",
    "  "
   ]
  },
  {
   "cell_type": "markdown",
   "metadata": {},
   "source": [
    "Best depth for the RandomForestClassifer is 12"
   ]
  },
  {
   "cell_type": "code",
   "execution_count": 88,
   "metadata": {},
   "outputs": [
    {
     "name": "stdout",
     "output_type": "stream",
     "text": [
      "10 F1 0.5624344176285414\n",
      "20 F1 0.5637860082304527\n",
      "30 F1 0.5693430656934307\n",
      "40 F1 0.5705263157894738\n",
      "50 F1 0.5693121693121693\n",
      "60 F1 0.5666316894018888\n",
      "70 F1 0.5644820295983087\n",
      "80 F1 0.5641569459172853\n",
      "90 F1 0.5690200210748155\n",
      "100 F1 0.5675105485232067\n"
     ]
    }
   ],
   "source": [
    "for estimators in range(10, 110, 10):\n",
    "  model = RandomForestClassifier(n_estimators=estimators, max_depth=12, random_state=12345)\n",
    "  model.fit(features_train, target_train)\n",
    "  predicted_valid = model.predict(features_valid)\n",
    "  print(estimators, 'F1', f1_score(target_valid, predicted_valid))"
   ]
  },
  {
   "cell_type": "markdown",
   "metadata": {},
   "source": [
    "The best F1-score is 0.57 which is still not enough, but let's take a look at the roc curve"
   ]
  },
  {
   "cell_type": "code",
   "execution_count": 89,
   "metadata": {},
   "outputs": [
    {
     "name": "stdout",
     "output_type": "stream",
     "text": [
      "40 F1 0.5705263157894738\n"
     ]
    }
   ],
   "source": [
    "model = RandomForestClassifier(n_estimators=40, max_depth=12, random_state=12345)\n",
    "model.fit(features_train, target_train)\n",
    "predicted_valid = model.predict(features_valid)\n",
    "print(40, 'F1', f1_score(target_valid, predicted_valid))"
   ]
  },
  {
   "cell_type": "code",
   "execution_count": 90,
   "metadata": {},
   "outputs": [
    {
     "data": {
      "image/png": "[encoded data removed]",
      "text/plain": [
       "<Figure size 432x288 with 1 Axes>"
      ]
     },
     "metadata": {
      "needs_background": "light"
     },
     "output_type": "display_data"
    },
    {
     "name": "stdout",
     "output_type": "stream",
     "text": [
      "AUC_ROC 0.8397552768236215\n"
     ]
    }
   ],
   "source": [
    "draw_roc_curve(model, features_valid, target_valid)"
   ]
  },
  {
   "cell_type": "markdown",
   "metadata": {},
   "source": [
    "We can see that 0.57 is not enough, but the score could be better on the test selection."
   ]
  },
  {
   "cell_type": "markdown",
   "metadata": {},
   "source": [
    "# Final Test"
   ]
  },
  {
   "cell_type": "code",
   "execution_count": 91,
   "metadata": {},
   "outputs": [
    {
     "name": "stdout",
     "output_type": "stream",
     "text": [
      "F1 0.6088669950738915\n"
     ]
    }
   ],
   "source": [
    "model = RandomForestClassifier(n_estimators=40, max_depth=12, random_state=12345)\n",
    "model.fit(features_train, target_train)\n",
    "predicted_test = model.predict(features_test)\n",
    "print('F1', f1_score(target_test, predicted_test))"
   ]
  },
  {
   "cell_type": "code",
   "execution_count": 92,
   "metadata": {},
   "outputs": [
    {
     "data": {
      "image/png": "[encoded data removed]",
      "text/plain": [
       "<Figure size 432x288 with 1 Axes>"
      ]
     },
     "metadata": {
      "needs_background": "light"
     },
     "output_type": "display_data"
    },
    {
     "name": "stdout",
     "output_type": "stream",
     "text": [
      "AUC_ROC 0.8506828491925362\n"
     ]
    }
   ],
   "source": [
    "draw_roc_curve(model, features_test, target_test)"
   ]
  },
  {
   "cell_type": "markdown",
   "metadata": {},
   "source": [
    "# Reflection"
   ]
  },
  {
   "cell_type": "markdown",
   "metadata": {},
   "source": [
    "- We loaded the data\n",
    "- Dropped the column with the last names\n",
    "- Filled values of the 'Tenure' with 0\n",
    "- Seperated data into training, validation, testing data\n",
    "- Builded DecisionTreeClassifier and tested F1 score\n",
    "- We balanced the data\n",
    "- We tried upsampling and downsampling, but upsampling worked better\n",
    "- We trained RandomForestClassifier with different hyperparameters\n",
    "- We got our model to the 0.609 F1 score\n",
    "- Yay, Greate sucess!!!"
   ]
  },
  {
   "cell_type": "markdown",
   "metadata": {},
   "source": []
  }
 ],
 "metadata": {
  "kernelspec": {
   "display_name": "Python 3.8.9 64-bit",
   "language": "python",
   "name": "python3"
  },
  "language_info": {
   "codemirror_mode": {
    "name": "ipython",
    "version": 3
   },
   "file_extension": ".py",
   "mimetype": "text/x-python",
   "name": "python",
   "nbconvert_exporter": "python",
   "pygments_lexer": "ipython3",
   "version": "3.8.9"
  },
  "orig_nbformat": 4,
  "vscode": {
   "interpreter": {
    "hash": "31f2aee4e71d21fbe5cf8b01ff0e069b9275f58929596ceb00d14d90e3e16cd6"
   }
  }
 },
 "nbformat": 4,
 "nbformat_minor": 2
}
